{
 "cells": [
  {
   "cell_type": "markdown",
   "metadata": {
    "colab_type": "text",
    "id": "NGMIAJqtRr24"
   },
   "source": [
    "# Dog Breed Identification CNN"
   ]
  },
  {
   "cell_type": "code",
   "execution_count": 1,
   "metadata": {
    "colab": {
     "base_uri": "https://localhost:8080/",
     "height": 275
    },
    "colab_type": "code",
    "id": "6kvg0otEjn9S",
    "outputId": "37ecb8aa-634a-46b0-ec5e-8e7a22100aad"
   },
   "outputs": [
    {
     "name": "stdout",
     "output_type": "stream",
     "text": [
      "Requirement already satisfied: watermark in /usr/local/lib/python3.6/dist-packages (1.8.2)\n",
      "Requirement already satisfied: ipython in /usr/local/lib/python3.6/dist-packages (from watermark) (5.5.0)\n",
      "Requirement already satisfied: pygments in /usr/local/lib/python3.6/dist-packages (from ipython->watermark) (2.1.3)\n",
      "Requirement already satisfied: setuptools>=18.5 in /usr/local/lib/python3.6/dist-packages (from ipython->watermark) (41.0.1)\n",
      "Requirement already satisfied: pickleshare in /usr/local/lib/python3.6/dist-packages (from ipython->watermark) (0.7.5)\n",
      "Requirement already satisfied: simplegeneric>0.8 in /usr/local/lib/python3.6/dist-packages (from ipython->watermark) (0.8.1)\n",
      "Requirement already satisfied: prompt-toolkit<2.0.0,>=1.0.4 in /usr/local/lib/python3.6/dist-packages (from ipython->watermark) (1.0.16)\n",
      "Requirement already satisfied: decorator in /usr/local/lib/python3.6/dist-packages (from ipython->watermark) (4.4.0)\n",
      "Requirement already satisfied: traitlets>=4.2 in /usr/local/lib/python3.6/dist-packages (from ipython->watermark) (4.3.2)\n",
      "Requirement already satisfied: pexpect; sys_platform != \"win32\" in /usr/local/lib/python3.6/dist-packages (from ipython->watermark) (4.7.0)\n",
      "Requirement already satisfied: six>=1.9.0 in /usr/local/lib/python3.6/dist-packages (from prompt-toolkit<2.0.0,>=1.0.4->ipython->watermark) (1.12.0)\n",
      "Requirement already satisfied: wcwidth in /usr/local/lib/python3.6/dist-packages (from prompt-toolkit<2.0.0,>=1.0.4->ipython->watermark) (0.1.7)\n",
      "Requirement already satisfied: ipython-genutils in /usr/local/lib/python3.6/dist-packages (from traitlets>=4.2->ipython->watermark) (0.2.0)\n",
      "Requirement already satisfied: ptyprocess>=0.5 in /usr/local/lib/python3.6/dist-packages (from pexpect; sys_platform != \"win32\"->ipython->watermark) (0.6.0)\n"
     ]
    }
   ],
   "source": [
    "!pip install watermark"
   ]
  },
  {
   "cell_type": "code",
   "execution_count": 2,
   "metadata": {
    "colab": {
     "base_uri": "https://localhost:8080/",
     "height": 238
    },
    "colab_type": "code",
    "id": "75KR_uBIRr27",
    "outputId": "e7afb417-99b3-4d47-9dc4-fb6c962ebc11"
   },
   "outputs": [
    {
     "name": "stdout",
     "output_type": "stream",
     "text": [
      "CPython 3.6.8\n",
      "IPython 5.5.0\n",
      "\n",
      "tensorflow 1.14.0\n",
      "numpy 1.16.4\n",
      "\n",
      "compiler   : GCC 8.0.1 20180414 (experimental) [trunk revision 259383\n",
      "system     : Linux\n",
      "release    : 4.14.79+\n",
      "machine    : x86_64\n",
      "processor  : x86_64\n",
      "CPU cores  : 2\n",
      "interpreter: 64bit\n"
     ]
    }
   ],
   "source": [
    "# Watermark\n",
    "%load_ext watermark\n",
    "%watermark -v -m -p tensorflow,numpy"
   ]
  },
  {
   "cell_type": "code",
   "execution_count": null,
   "metadata": {
    "colab": {},
    "colab_type": "code",
    "id": "mMG-His0Rr3A"
   },
   "outputs": [],
   "source": [
    "# Imports\n",
    "from datetime import datetime\n",
    "import os\n",
    "import pickle\n",
    "import tarfile\n",
    "from time import time\n",
    "\n",
    "from google.colab import files\n",
    "import matplotlib.pyplot as plt\n",
    "import numpy as np\n",
    "import tensorflow as tf\n",
    "from tensorflow import keras"
   ]
  },
  {
   "cell_type": "code",
   "execution_count": null,
   "metadata": {
    "colab": {},
    "colab_type": "code",
    "id": "2uJOocpoRr3I"
   },
   "outputs": [],
   "source": [
    "# Directories\n",
    "base_dir = '.'\n",
    "\n",
    "data_dir = os.path.join(base_dir, 'data')\n",
    "processed_dir = os.path.join(data_dir, 'processed')\n",
    "train_dir = os.path.join(processed_dir, 'train')\n",
    "test_dir = os.path.join(processed_dir, 'test')"
   ]
  },
  {
   "cell_type": "code",
   "execution_count": null,
   "metadata": {
    "colab": {},
    "colab_type": "code",
    "id": "N-zEHY2RkdUR"
   },
   "outputs": [],
   "source": [
    "# Functions\n",
    "def plot_train_result(data, metric, ax=None):\n",
    "    \"\"\"Helper to plot training result curves.\"\"\"\n",
    "    if not ax:\n",
    "        ax = plt.gca()\n",
    "    ax.plot(data[metric], label='Train')\n",
    "    ax.plot(data[f\"val_{metric}\"], label='Validation')\n",
    "    ax.set_xlabel('Epoch')\n",
    "    ax.set_ylabel(metric)\n",
    "    ax.set_title(f\"Training process: {metric}\")\n",
    "    ax.legend()\n",
    "    ax.grid()\n",
    "    return ax"
   ]
  },
  {
   "cell_type": "code",
   "execution_count": null,
   "metadata": {
    "colab": {},
    "colab_type": "code",
    "id": "x3wNZTB2pqLd"
   },
   "outputs": [],
   "source": [
    "# Extract uploaded data (if needed)\n",
    "if not os.path.exists(processed_dir):\n",
    "    os.makedirs(processed_dir)\n",
    "    print('[INFO] Extracting data... ', end='', flush=True)\n",
    "    with tarfile.open('./dog-data.tar.gz', 'r:*') as archive:\n",
    "        archive.extractall(processed_dir)\n",
    "    print('DONE.')"
   ]
  },
  {
   "cell_type": "code",
   "execution_count": 7,
   "metadata": {
    "colab": {
     "base_uri": "https://localhost:8080/",
     "height": 51
    },
    "colab_type": "code",
    "id": "s5NrHNr2Rr3L",
    "outputId": "a388c25f-efdb-4719-c05f-0864b22fbbd6"
   },
   "outputs": [
    {
     "name": "stdout",
     "output_type": "stream",
     "text": [
      "Found 18519 images belonging to 120 classes.\n",
      "Found 2061 images belonging to 120 classes.\n"
     ]
    }
   ],
   "source": [
    "# Create the generators for the input data\n",
    "input_size = (299, 299)\n",
    "batch_size = 64\n",
    "\n",
    "# - Data generators\n",
    "train_datagen = keras.preprocessing.image.ImageDataGenerator(\n",
    "    rescale=1./255, \n",
    "    horizontal_flip=True,\n",
    "    rotation_range=20\n",
    ")\n",
    "test_datagen = keras.preprocessing.image.ImageDataGenerator(\n",
    "    rescale=1./255\n",
    ")\n",
    "\n",
    "# - Flow from directory generators\n",
    "train_generator = train_datagen.flow_from_directory(\n",
    "    train_dir, target_size=input_size, batch_size=batch_size,\n",
    "    class_mode='categorical'\n",
    ")\n",
    "test_generator = test_datagen.flow_from_directory(\n",
    "    test_dir, target_size=input_size, batch_size=batch_size,\n",
    "    class_mode='categorical'\n",
    ")"
   ]
  },
  {
   "cell_type": "code",
   "execution_count": 17,
   "metadata": {
    "colab": {
     "base_uri": "https://localhost:8080/",
     "height": 391
    },
    "colab_type": "code",
    "id": "0MwLEiCyRr3O",
    "outputId": "332386a2-0599-425c-bbc8-bc6fa9fc0b14"
   },
   "outputs": [
    {
     "name": "stdout",
     "output_type": "stream",
     "text": [
      "Model: \"sequential_1\"\n",
      "_________________________________________________________________\n",
      "Layer (type)                 Output Shape              Param #   \n",
      "=================================================================\n",
      "inception_v3 (Model)         (None, None, None, 2048)  21802784  \n",
      "_________________________________________________________________\n",
      "global_average_pooling2d_1 ( (None, 2048)              0         \n",
      "_________________________________________________________________\n",
      "dense_3 (Dense)              (None, 1024)              2098176   \n",
      "_________________________________________________________________\n",
      "dropout_2 (Dropout)          (None, 1024)              0         \n",
      "_________________________________________________________________\n",
      "dense_4 (Dense)              (None, 512)               524800    \n",
      "_________________________________________________________________\n",
      "dropout_3 (Dropout)          (None, 512)               0         \n",
      "_________________________________________________________________\n",
      "dense_5 (Dense)              (None, 120)               61560     \n",
      "=================================================================\n",
      "Total params: 24,487,320\n",
      "Trainable params: 13,799,416\n",
      "Non-trainable params: 10,687,904\n",
      "_________________________________________________________________\n"
     ]
    }
   ],
   "source": [
    "# Build the model\n",
    "# - Construct the base model\n",
    "base_model = keras.applications.inception_v3.InceptionV3(\n",
    "    weights='imagenet', include_top=False\n",
    ")\n",
    "\n",
    "# - Only let the last inception block be trained\n",
    "base_model.trainable = True\n",
    "for layer in base_model.layers[:-62]:\n",
    "    layer.trainable = False\n",
    "\n",
    "# - Construct the full model\n",
    "model = keras.Sequential([\n",
    "    # - InceptionV3 base\n",
    "    base_model,\n",
    "    # - A pooling layer\n",
    "    keras.layers.GlobalAveragePooling2D(),\n",
    "    # - First dense layer\n",
    "    keras.layers.Dense(1024, activation='relu'),\n",
    "    # - Dropout layer\n",
    "    keras.layers.Dropout(0.5),\n",
    "    # - Second dense layer\n",
    "    keras.layers.Dense(512, activation='relu'),\n",
    "    # - Second dropout layer\n",
    "    keras.layers.Dropout(0.3),\n",
    "    # - Output layer\n",
    "    keras.layers.Dense(120, activation='softmax')\n",
    "])\n",
    "\n",
    "model.compile(optimizer='rmsprop', loss='categorical_crossentropy',\n",
    "              metrics=['accuracy'])\n",
    "\n",
    "model.summary()"
   ]
  },
  {
   "cell_type": "code",
   "execution_count": null,
   "metadata": {
    "colab": {},
    "colab_type": "code",
    "id": "WUCku1_9Rr3T"
   },
   "outputs": [],
   "source": [
    "# Configure logging with TensorBoard and checkpoints\n",
    "log_dir = os.path.abspath(os.path.join(\n",
    "    base_dir, 'logs', f\"{datetime.today():%Y%m%d}-{round(time())}\"\n",
    "))\n",
    "cp_dir = os.path.join(log_dir, 'checkpoints')\n",
    "os.makedirs(log_dir)\n",
    "os.mkdir(cp_dir)\n",
    "\n",
    "cb_tboard = keras.callbacks.TensorBoard(\n",
    "    log_dir=log_dir, histogram_freq=0, update_freq='batch'\n",
    ")\n",
    "cb_checkpoint = keras.callbacks.ModelCheckpoint(\n",
    "    os.path.join(cp_dir, 'init.{epoch:02d}.hdf5'),\n",
    "    save_weights_only=True, verbose=1\n",
    ")\n",
    "callbacks = [cb_tboard, cb_checkpoint]"
   ]
  },
  {
   "cell_type": "code",
   "execution_count": 10,
   "metadata": {
    "colab": {
     "base_uri": "https://localhost:8080/",
     "height": 717
    },
    "colab_type": "code",
    "id": "PnHXeRqqRr3X",
    "outputId": "2cbd03aa-e5fa-4e9f-b24d-478c2d2d6c7b"
   },
   "outputs": [
    {
     "name": "stdout",
     "output_type": "stream",
     "text": [
      "Epoch 1/10\n",
      "289/290 [============================>.] - ETA: 1s - loss: 2.4617 - acc: 0.3717\n",
      "Epoch 00001: saving model to /content/logs/20190804-1564951605/checkpoints/init.01.hdf5\n",
      "290/290 [==============================] - 352s 1s/step - loss: 2.4593 - acc: 0.3722 - val_loss: 1.4975 - val_acc: 0.6099\n",
      "Epoch 2/10\n",
      "289/290 [============================>.] - ETA: 1s - loss: 1.3481 - acc: 0.6064\n",
      "Epoch 00002: saving model to /content/logs/20190804-1564951605/checkpoints/init.02.hdf5\n",
      "290/290 [==============================] - 338s 1s/step - loss: 1.3481 - acc: 0.6065 - val_loss: 1.0587 - val_acc: 0.7181\n",
      "Epoch 3/10\n",
      "289/290 [============================>.] - ETA: 1s - loss: 1.1223 - acc: 0.6704\n",
      "Epoch 00003: saving model to /content/logs/20190804-1564951605/checkpoints/init.03.hdf5\n",
      "290/290 [==============================] - 342s 1s/step - loss: 1.1234 - acc: 0.6701 - val_loss: 1.0027 - val_acc: 0.7171\n",
      "Epoch 4/10\n",
      "289/290 [============================>.] - ETA: 1s - loss: 0.9547 - acc: 0.7163\n",
      "Epoch 00004: saving model to /content/logs/20190804-1564951605/checkpoints/init.04.hdf5\n",
      "290/290 [==============================] - 340s 1s/step - loss: 0.9553 - acc: 0.7162 - val_loss: 1.0876 - val_acc: 0.7098\n",
      "Epoch 5/10\n",
      "289/290 [============================>.] - ETA: 1s - loss: 0.8560 - acc: 0.7431\n",
      "Epoch 00005: saving model to /content/logs/20190804-1564951605/checkpoints/init.05.hdf5\n",
      "290/290 [==============================] - 341s 1s/step - loss: 0.8564 - acc: 0.7430 - val_loss: 0.7376 - val_acc: 0.8025\n",
      "Epoch 6/10\n",
      "289/290 [============================>.] - ETA: 1s - loss: 0.7791 - acc: 0.7671\n",
      "Epoch 00006: saving model to /content/logs/20190804-1564951605/checkpoints/init.06.hdf5\n",
      "290/290 [==============================] - 339s 1s/step - loss: 0.7786 - acc: 0.7673 - val_loss: 1.0894 - val_acc: 0.7142\n",
      "Epoch 7/10\n",
      "289/290 [============================>.] - ETA: 1s - loss: 0.7111 - acc: 0.7850\n",
      "Epoch 00007: saving model to /content/logs/20190804-1564951605/checkpoints/init.07.hdf5\n",
      "290/290 [==============================] - 340s 1s/step - loss: 0.7106 - acc: 0.7851 - val_loss: 0.9675 - val_acc: 0.7506\n",
      "Epoch 8/10\n",
      "289/290 [============================>.] - ETA: 1s - loss: 0.6544 - acc: 0.7986\n",
      "Epoch 00008: saving model to /content/logs/20190804-1564951605/checkpoints/init.08.hdf5\n",
      "290/290 [==============================] - 338s 1s/step - loss: 0.6548 - acc: 0.7985 - val_loss: 0.9748 - val_acc: 0.7492\n",
      "Epoch 9/10\n",
      "289/290 [============================>.] - ETA: 1s - loss: 0.5942 - acc: 0.8133\n",
      "Epoch 00009: saving model to /content/logs/20190804-1564951605/checkpoints/init.09.hdf5\n",
      "290/290 [==============================] - 338s 1s/step - loss: 0.5943 - acc: 0.8133 - val_loss: 0.9937 - val_acc: 0.7448\n",
      "Epoch 10/10\n",
      "289/290 [============================>.] - ETA: 1s - loss: 0.5617 - acc: 0.8278\n",
      "Epoch 00010: saving model to /content/logs/20190804-1564951605/checkpoints/init.10.hdf5\n",
      "290/290 [==============================] - 337s 1s/step - loss: 0.5624 - acc: 0.8276 - val_loss: 0.9706 - val_acc: 0.7695\n"
     ]
    }
   ],
   "source": [
    "# Train the model\n",
    "epochs = 10\n",
    "\n",
    "history = model.fit_generator(\n",
    "    train_generator, epochs=epochs, shuffle=True, callbacks=callbacks,\n",
    "    validation_data=test_generator\n",
    ")\n",
    "with open(os.path.join(cp_dir, 'history.pkl'), 'wb') as fout:\n",
    "    pickle.dump(history.history, fout)"
   ]
  },
  {
   "cell_type": "code",
   "execution_count": 11,
   "metadata": {
    "colab": {
     "base_uri": "https://localhost:8080/",
     "height": 308
    },
    "colab_type": "code",
    "id": "q1XUpzL8kkjp",
    "outputId": "245978a3-6a7c-47c3-c11d-2e3d2df759e7"
   },
   "outputs": [
    {
     "data": {
      "image/png": "[encoded data removed]",
      "text/plain": [
       "<Figure size 864x288 with 2 Axes>"
      ]
     },
     "metadata": {
      "tags": []
     },
     "output_type": "display_data"
    }
   ],
   "source": [
    "# Training result plots\n",
    "fig, axs = plt.subplots(1, 2, figsize=(12, 4))\n",
    "\n",
    "plot_train_result(history.history, 'loss', ax=axs[0])\n",
    "plot_train_result(history.history, 'acc', ax=axs[1])\n",
    "\n",
    "fig.suptitle('Initial Training', x=0.05, ha='left', fontsize=14, \n",
    "             fontweight='bold');"
   ]
  },
  {
   "cell_type": "code",
   "execution_count": null,
   "metadata": {
    "colab": {},
    "colab_type": "code",
    "id": "uprG6znXXjIh"
   },
   "outputs": [],
   "source": [
    "# Load from a checkpoint\n",
    "epoch = 4\n",
    "with open(os.path.join(cp_dir, 'history.pkl'), 'rb') as fin:\n",
    "    history = pickle.load(fin)\n",
    "model.load_weights(os.path.join(cp_dir, f'init.{epoch:02d}.hdf5'))"
   ]
  },
  {
   "cell_type": "code",
   "execution_count": 19,
   "metadata": {
    "colab": {
     "base_uri": "https://localhost:8080/",
     "height": 391
    },
    "colab_type": "code",
    "id": "MXnvvRVNRr3k",
    "outputId": "312d4716-d97e-4d6b-9c68-f49e0389de50"
   },
   "outputs": [
    {
     "name": "stdout",
     "output_type": "stream",
     "text": [
      "Model: \"sequential_1\"\n",
      "_________________________________________________________________\n",
      "Layer (type)                 Output Shape              Param #   \n",
      "=================================================================\n",
      "inception_v3 (Model)         (None, None, None, 2048)  21802784  \n",
      "_________________________________________________________________\n",
      "global_average_pooling2d_1 ( (None, 2048)              0         \n",
      "_________________________________________________________________\n",
      "dense_3 (Dense)              (None, 1024)              2098176   \n",
      "_________________________________________________________________\n",
      "dropout_2 (Dropout)          (None, 1024)              0         \n",
      "_________________________________________________________________\n",
      "dense_4 (Dense)              (None, 512)               524800    \n",
      "_________________________________________________________________\n",
      "dropout_3 (Dropout)          (None, 512)               0         \n",
      "_________________________________________________________________\n",
      "dense_5 (Dense)              (None, 120)               61560     \n",
      "=================================================================\n",
      "Total params: 24,487,320\n",
      "Trainable params: 15,348,984\n",
      "Non-trainable params: 9,138,336\n",
      "_________________________________________________________________\n"
     ]
    }
   ],
   "source": [
    "# Unfreeze another inception block\n",
    "base_model.trainable = True\n",
    "for layer in base_model.layers[:-(62+19)]:\n",
    "    layer.trainable = False\n",
    "\n",
    "# - Recompile the model\n",
    "model.compile(optimizer=keras.optimizers.SGD(lr=0.0025), \n",
    "              loss='categorical_crossentropy',\n",
    "              metrics=['accuracy'])\n",
    "\n",
    "model.summary()"
   ]
  },
  {
   "cell_type": "code",
   "execution_count": 20,
   "metadata": {
    "colab": {
     "base_uri": "https://localhost:8080/",
     "height": 1000
    },
    "colab_type": "code",
    "id": "lzKVxwXzRr3n",
    "outputId": "b1ecbdd8-4123-4a77-b5f5-7c15a58c3706"
   },
   "outputs": [
    {
     "name": "stdout",
     "output_type": "stream",
     "text": [
      "Epoch 1/20\n",
      "289/290 [============================>.] - ETA: 1s - loss: 0.7848 - acc: 0.7568\n",
      "Epoch 00001: saving model to /content/logs/20190804-1564951605/checkpoints/fine.01.hdf5\n",
      "290/290 [==============================] - 350s 1s/step - loss: 0.7838 - acc: 0.7571 - val_loss: 0.7409 - val_acc: 0.7768\n",
      "Epoch 2/20\n",
      "289/290 [============================>.] - ETA: 1s - loss: 0.6983 - acc: 0.7828\n",
      "Epoch 00002: saving model to /content/logs/20190804-1564951605/checkpoints/fine.02.hdf5\n",
      "290/290 [==============================] - 333s 1s/step - loss: 0.6977 - acc: 0.7828 - val_loss: 0.7068 - val_acc: 0.7855\n",
      "Epoch 3/20\n",
      "289/290 [============================>.] - ETA: 1s - loss: 0.6649 - acc: 0.7939\n",
      "Epoch 00003: saving model to /content/logs/20190804-1564951605/checkpoints/fine.03.hdf5\n",
      "290/290 [==============================] - 333s 1s/step - loss: 0.6653 - acc: 0.7936 - val_loss: 0.6880 - val_acc: 0.7948\n",
      "Epoch 4/20\n",
      "289/290 [============================>.] - ETA: 1s - loss: 0.6490 - acc: 0.7988\n",
      "Epoch 00004: saving model to /content/logs/20190804-1564951605/checkpoints/fine.04.hdf5\n",
      "290/290 [==============================] - 332s 1s/step - loss: 0.6489 - acc: 0.7988 - val_loss: 0.6924 - val_acc: 0.7948\n",
      "Epoch 5/20\n",
      "289/290 [============================>.] - ETA: 1s - loss: 0.6372 - acc: 0.8010\n",
      "Epoch 00005: saving model to /content/logs/20190804-1564951605/checkpoints/fine.05.hdf5\n",
      "290/290 [==============================] - 332s 1s/step - loss: 0.6375 - acc: 0.8011 - val_loss: 0.6873 - val_acc: 0.7972\n",
      "Epoch 6/20\n",
      "289/290 [============================>.] - ETA: 1s - loss: 0.6181 - acc: 0.8074\n",
      "Epoch 00006: saving model to /content/logs/20190804-1564951605/checkpoints/fine.06.hdf5\n",
      "290/290 [==============================] - 332s 1s/step - loss: 0.6183 - acc: 0.8075 - val_loss: 0.6838 - val_acc: 0.7991\n",
      "Epoch 7/20\n",
      "289/290 [============================>.] - ETA: 1s - loss: 0.6075 - acc: 0.8090\n",
      "Epoch 00007: saving model to /content/logs/20190804-1564951605/checkpoints/fine.07.hdf5\n",
      "290/290 [==============================] - 329s 1s/step - loss: 0.6071 - acc: 0.8092 - val_loss: 0.7040 - val_acc: 0.7986\n",
      "Epoch 8/20\n",
      "289/290 [============================>.] - ETA: 1s - loss: 0.6019 - acc: 0.8149\n",
      "Epoch 00008: saving model to /content/logs/20190804-1564951605/checkpoints/fine.08.hdf5\n",
      "290/290 [==============================] - 328s 1s/step - loss: 0.6023 - acc: 0.8147 - val_loss: 0.6717 - val_acc: 0.8011\n",
      "Epoch 9/20\n",
      "289/290 [============================>.] - ETA: 1s - loss: 0.6036 - acc: 0.8131\n",
      "Epoch 00009: saving model to /content/logs/20190804-1564951605/checkpoints/fine.09.hdf5\n",
      "290/290 [==============================] - 329s 1s/step - loss: 0.6035 - acc: 0.8131 - val_loss: 0.6711 - val_acc: 0.8006\n",
      "Epoch 10/20\n",
      "289/290 [============================>.] - ETA: 1s - loss: 0.5844 - acc: 0.8141\n",
      "Epoch 00010: saving model to /content/logs/20190804-1564951605/checkpoints/fine.10.hdf5\n",
      "290/290 [==============================] - 328s 1s/step - loss: 0.5847 - acc: 0.8142 - val_loss: 0.6714 - val_acc: 0.8035\n",
      "Epoch 11/20\n",
      "289/290 [============================>.] - ETA: 1s - loss: 0.5724 - acc: 0.8191\n",
      "Epoch 00011: saving model to /content/logs/20190804-1564951605/checkpoints/fine.11.hdf5\n",
      "290/290 [==============================] - 328s 1s/step - loss: 0.5725 - acc: 0.8191 - val_loss: 0.6728 - val_acc: 0.8045\n",
      "Epoch 12/20\n",
      "289/290 [============================>.] - ETA: 1s - loss: 0.5805 - acc: 0.8209\n",
      "Epoch 00012: saving model to /content/logs/20190804-1564951605/checkpoints/fine.12.hdf5\n",
      "290/290 [==============================] - 327s 1s/step - loss: 0.5801 - acc: 0.8210 - val_loss: 0.6917 - val_acc: 0.8025\n",
      "Epoch 13/20\n",
      "289/290 [============================>.] - ETA: 1s - loss: 0.5773 - acc: 0.8183\n",
      "Epoch 00013: saving model to /content/logs/20190804-1564951605/checkpoints/fine.13.hdf5\n",
      "290/290 [==============================] - 327s 1s/step - loss: 0.5771 - acc: 0.8183 - val_loss: 0.6916 - val_acc: 0.8011\n",
      "Epoch 14/20\n",
      "289/290 [============================>.] - ETA: 1s - loss: 0.5700 - acc: 0.8195\n",
      "Epoch 00014: saving model to /content/logs/20190804-1564951605/checkpoints/fine.14.hdf5\n",
      "290/290 [==============================] - 327s 1s/step - loss: 0.5701 - acc: 0.8195 - val_loss: 0.6912 - val_acc: 0.8020\n",
      "Epoch 15/20\n",
      "289/290 [============================>.] - ETA: 1s - loss: 0.5499 - acc: 0.8226\n",
      "Epoch 00015: saving model to /content/logs/20190804-1564951605/checkpoints/fine.15.hdf5\n",
      "290/290 [==============================] - 327s 1s/step - loss: 0.5499 - acc: 0.8226 - val_loss: 0.6981 - val_acc: 0.8049\n",
      "Epoch 16/20\n",
      "289/290 [============================>.] - ETA: 1s - loss: 0.5610 - acc: 0.8267\n",
      "Epoch 00016: saving model to /content/logs/20190804-1564951605/checkpoints/fine.16.hdf5\n",
      "290/290 [==============================] - 326s 1s/step - loss: 0.5610 - acc: 0.8268 - val_loss: 0.6999 - val_acc: 0.8020\n",
      "Epoch 17/20\n",
      "289/290 [============================>.] - ETA: 1s - loss: 0.5514 - acc: 0.8253\n",
      "Epoch 00017: saving model to /content/logs/20190804-1564951605/checkpoints/fine.17.hdf5\n",
      "290/290 [==============================] - 334s 1s/step - loss: 0.5514 - acc: 0.8254 - val_loss: 0.6861 - val_acc: 0.8016\n",
      "Epoch 18/20\n",
      "289/290 [============================>.] - ETA: 1s - loss: 0.5463 - acc: 0.8250\n",
      "Epoch 00018: saving model to /content/logs/20190804-1564951605/checkpoints/fine.18.hdf5\n",
      "290/290 [==============================] - 339s 1s/step - loss: 0.5464 - acc: 0.8251 - val_loss: 0.6746 - val_acc: 0.8045\n",
      "Epoch 19/20\n",
      "289/290 [============================>.] - ETA: 1s - loss: 0.5494 - acc: 0.8261\n",
      "Epoch 00019: saving model to /content/logs/20190804-1564951605/checkpoints/fine.19.hdf5\n",
      "290/290 [==============================] - 343s 1s/step - loss: 0.5497 - acc: 0.8260 - val_loss: 0.6859 - val_acc: 0.8064\n",
      "Epoch 20/20\n",
      "289/290 [============================>.] - ETA: 1s - loss: 0.5379 - acc: 0.8305\n",
      "Epoch 00020: saving model to /content/logs/20190804-1564951605/checkpoints/fine.20.hdf5\n",
      "290/290 [==============================] - 343s 1s/step - loss: 0.5381 - acc: 0.8302 - val_loss: 0.7108 - val_acc: 0.8054\n"
     ]
    }
   ],
   "source": [
    "# Fine-tune the model\n",
    "# - Tag the checkpoints with 'fine' instead of 'init'\n",
    "cb_checkpoint = keras.callbacks.ModelCheckpoint(\n",
    "    os.path.join(cp_dir, 'fine.{epoch:02d}.hdf5'),\n",
    "    save_weights_only=True, verbose=1\n",
    ")\n",
    "callbacks = [cb_tboard, cb_checkpoint]\n",
    "\n",
    "# - Run the fitting process\n",
    "epochs = 20\n",
    "\n",
    "history_fine = model.fit_generator(\n",
    "    train_generator, epochs=epochs, shuffle=True, callbacks=callbacks,\n",
    "    validation_data=test_generator\n",
    ")\n",
    "with open(os.path.join(cp_dir, 'history_fine.pkl'), 'wb') as fout:\n",
    "    pickle.dump(history_fine.history, fout)"
   ]
  },
  {
   "cell_type": "code",
   "execution_count": 21,
   "metadata": {
    "colab": {
     "base_uri": "https://localhost:8080/",
     "height": 308
    },
    "colab_type": "code",
    "id": "D90HcEHWlgLW",
    "outputId": "a4b4c544-032e-4c17-9a91-22409149f39f"
   },
   "outputs": [
    {
     "data": {
      "image/png": "[encoded data removed]",
      "text/plain": [
       "<Figure size 864x288 with 2 Axes>"
      ]
     },
     "metadata": {
      "tags": []
     },
     "output_type": "display_data"
    }
   ],
   "source": [
    "# Plot fine-tuning results\n",
    "fig, axs = plt.subplots(1, 2, figsize=(12, 4))\n",
    "\n",
    "plot_train_result(history_fine.history, 'loss', ax=axs[0])\n",
    "plot_train_result(history_fine.history, 'acc', ax=axs[1])\n",
    "\n",
    "fig.suptitle('Fine-Tuning', x=0.05, ha='left', fontsize=14, \n",
    "             fontweight='bold');"
   ]
  },
  {
   "cell_type": "code",
   "execution_count": null,
   "metadata": {
    "colab": {},
    "colab_type": "code",
    "id": "w-8dN4JwYQJQ"
   },
   "outputs": [],
   "source": [
    "# Load from a checkpoint\n",
    "epoch = 10\n",
    "with open(os.path.join(cp_dir, 'history_fine.pkl'), 'rb') as fin:\n",
    "    history_fine = pickle.load(fin)\n",
    "model.load_weights(os.path.join(cp_dir, f'fine.{epoch:02d}.hdf5'))"
   ]
  },
  {
   "cell_type": "code",
   "execution_count": null,
   "metadata": {
    "colab": {},
    "colab_type": "code",
    "id": "eft-r0U4Rr3r"
   },
   "outputs": [],
   "source": [
    "# Combine the history objects from the 2 phases\n",
    "tmp_hist = history.copy()\n",
    "mid_epoch = len(tmp_hist)\n",
    "for k in tmp_hist:\n",
    "    tmp_hist[k].extend(history_fine[k])"
   ]
  },
  {
   "cell_type": "code",
   "execution_count": 27,
   "metadata": {
    "colab": {
     "base_uri": "https://localhost:8080/",
     "height": 308
    },
    "colab_type": "code",
    "id": "1hgCphTVRr3u",
    "outputId": "2ce51b97-2529-490a-820f-fec6285a5a5e"
   },
   "outputs": [
    {
     "data": {
      "image/png": "[encoded data removed]",
      "text/plain": [
       "<Figure size 864x288 with 2 Axes>"
      ]
     },
     "metadata": {
      "tags": []
     },
     "output_type": "display_data"
    }
   ],
   "source": [
    "# Plot the combined training process history\n",
    "fig, axs = plt.subplots(1, 2, figsize=(12, 4))\n",
    "\n",
    "ax = plot_train_result(tmp_hist, 'loss', ax=axs[0])\n",
    "ax.axvline(mid_epoch, color='black', linestyle='--')\n",
    "\n",
    "ax = plot_train_result(tmp_hist, 'acc', ax=axs[1])\n",
    "ax.axvline(mid_epoch, color='black', linestyle='--')\n",
    "\n",
    "fig.suptitle('Combined Training Process', x=0.05, ha='left', \n",
    "             fontsize=14, fontweight='bold');"
   ]
  },
  {
   "cell_type": "code",
   "execution_count": null,
   "metadata": {
    "colab": {},
    "colab_type": "code",
    "id": "9QKfEAtJZS8O"
   },
   "outputs": [],
   "source": [
    "# Download results\n",
    "e_init = 4\n",
    "e_fine = 10\n",
    "with tarfile.open('results.tar.gz', 'w:gz') as archive:\n",
    "    archive.add(os.path.join(cp_dir, f\"init.{e_init:02d}.hdf5\"), \n",
    "                'init_model.hdf5')\n",
    "    archive.add(os.path.join(cp_dir, 'history.pkl'), 'history.pkl')\n",
    "    archive.add(os.path.join(cp_dir, f\"fine.{e_fine:02d}.hdf5\"), \n",
    "                'fine_model.hdf5')\n",
    "    archive.add(os.path.join(cp_dir, 'history_fine.pkl'), 'history_fine.pkl')\n",
    "files.download('results.tar.gz')"
   ]
  }
 ],
 "metadata": {
  "accelerator": "GPU",
  "colab": {
   "collapsed_sections": [],
   "name": "1.1-dd_convnet-build-colab.ipynb",
   "provenance": [],
   "version": "0.3.2"
  },
  "kernelspec": {
   "display_name": "Dog Breed Model",
   "language": "python",
   "name": "dog-breed-model"
  },
  "language_info": {
   "codemirror_mode": {
    "name": "ipython",
    "version": 3
   },
   "file_extension": ".py",
   "mimetype": "text/x-python",
   "name": "python",
   "nbconvert_exporter": "python",
   "pygments_lexer": "ipython3",
   "version": "3.7.2"
  }
 },
 "nbformat": 4,
 "nbformat_minor": 4
}
