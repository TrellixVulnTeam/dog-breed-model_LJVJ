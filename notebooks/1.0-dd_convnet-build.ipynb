{
 "cells": [
  {
   "cell_type": "markdown",
   "metadata": {},
   "source": [
    "# Dog Breed Identification CNN"
   ]
  },
  {
   "cell_type": "code",
   "execution_count": null,
   "metadata": {},
   "outputs": [],
   "source": [
    "# Watermark\n",
    "%load_ext watermark\n",
    "%watermark -v -m -p tensorflow,numpy"
   ]
  },
  {
   "cell_type": "code",
   "execution_count": null,
   "metadata": {},
   "outputs": [],
   "source": [
    "# Imports\n",
    "from datetime import datetime\n",
    "import os\n",
    "import pickle\n",
    "from time import time\n",
    "\n",
    "import matplotlib.pyplot as plt\n",
    "import numpy as np\n",
    "import tensorflow as tf\n",
    "from tensorflow import keras"
   ]
  },
  {
   "cell_type": "code",
   "execution_count": null,
   "metadata": {},
   "outputs": [],
   "source": [
    "# Directories\n",
    "base_dir = os.path.pardir\n",
    "\n",
    "data_dir = os.path.join(base_dir, 'data')\n",
    "processed_dir = os.path.join(data_dir, 'processed')\n",
    "train_dir = os.path.join(processed_dir, 'train')\n",
    "test_dir = os.path.join(processed_dir, 'test')"
   ]
  },
  {
   "cell_type": "code",
   "execution_count": null,
   "metadata": {},
   "outputs": [],
   "source": [
    "# Functions\n",
    "def plot_train_result(data, metric, ax=None):\n",
    "    \"\"\"Helper to plot training result curves.\"\"\"\n",
    "    if not ax:\n",
    "        ax = plt.gca()\n",
    "    ax.plot(data[metric], label='Train')\n",
    "    ax.plot(data[f\"val_{metric}\"], label='Validation')\n",
    "    ax.set_xlabel('Epoch')\n",
    "    ax.set_ylabel(metric)\n",
    "    ax.set_title(f\"Training process: {metric}\")\n",
    "    ax.legend()\n",
    "    ax.grid()\n",
    "    return ax"
   ]
  },
  {
   "cell_type": "code",
   "execution_count": null,
   "metadata": {},
   "outputs": [],
   "source": [
    "# Create the generators for the input data\n",
    "input_size = (299, 299)\n",
    "batch_size = 64\n",
    "\n",
    "# - Data generators\n",
    "train_datagen = keras.preprocessing.image.ImageDataGenerator(\n",
    "    rescale=1./255, \n",
    "    horizontal_flip=True,\n",
    "    rotation_range=20\n",
    ")\n",
    "test_datagen = keras.preprocessing.image.ImageDataGenerator(\n",
    "    rescale=1./255\n",
    ")\n",
    "\n",
    "# - Flow from directory generators\n",
    "train_generator = train_datagen.flow_from_directory(\n",
    "    train_dir, target_size=input_size, batch_size=batch_size,\n",
    "    class_mode='categorical'\n",
    ")\n",
    "test_generator = test_datagen.flow_from_directory(\n",
    "    test_dir, target_size=input_size, batch_size=batch_size,\n",
    "    class_mode='categorical'\n",
    ")"
   ]
  },
  {
   "cell_type": "code",
   "execution_count": null,
   "metadata": {},
   "outputs": [],
   "source": [
    "# Build the model\n",
    "# - Construct the base model\n",
    "base_model = keras.applications.inception_v3.InceptionV3(\n",
    "    weights='imagenet', include_top=False\n",
    ")\n",
    "\n",
    "# - Only let the last inception block be trained\n",
    "base_model.trainable = True\n",
    "for layer in base_model.layers[:-62]:\n",
    "    layer.trainable = False\n",
    "\n",
    "# - Construct the full model\n",
    "model = keras.Sequential([\n",
    "    # - InceptionV3 base\n",
    "    base_model,\n",
    "    # - A pooling layer\n",
    "    keras.layers.GlobalAveragePooling2D(),\n",
    "    # - First dense layer\n",
    "    keras.layers.Dense(1024, activation='relu'),\n",
    "    # - Dropout layer\n",
    "    keras.layers.Dropout(0.5),\n",
    "    # - Second dense layer\n",
    "    keras.layers.Dense(512, activation='relu'),\n",
    "    # - Second dropout layer\n",
    "    keras.layers.Dropout(0.3),\n",
    "    # - Output layer\n",
    "    keras.layers.Dense(120, activation='softmax')\n",
    "])\n",
    "\n",
    "model.compile(optimizer='rmsprop', loss='categorical_crossentropy',\n",
    "              metrics=['accuracy'])\n",
    "\n",
    "model.summary()"
   ]
  },
  {
   "cell_type": "code",
   "execution_count": null,
   "metadata": {},
   "outputs": [],
   "source": [
    "# Configure logging with TensorBoard and checkpoints\n",
    "log_dir = os.path.abspath(os.path.join(\n",
    "    base_dir, 'logs', f\"{datetime.today():%Y%m%d}-{round(time())}\"\n",
    "))\n",
    "cp_dir = os.path.join(log_dir, 'checkpoints')\n",
    "os.makedirs(log_dir)\n",
    "os.mkdir(cp_dir)\n",
    "\n",
    "cb_tboard = keras.callbacks.TensorBoard(\n",
    "    log_dir=log_dir, histogram_freq=0, update_freq='batch'\n",
    ")\n",
    "cb_checkpoint = keras.callbacks.ModelCheckpoint(\n",
    "    os.path.join(cp_dir, 'init.{epoch:02d}-{val_loss:.2f}.hdf5'),\n",
    "    save_weights_only=True, verbose=1\n",
    ")\n",
    "callbacks = [cb_tboard, cb_checkpoint]"
   ]
  },
  {
   "cell_type": "code",
   "execution_count": null,
   "metadata": {},
   "outputs": [],
   "source": [
    "# Train the model\n",
    "epochs = 10\n",
    "\n",
    "history = model.fit_generator(\n",
    "    train_generator, epochs=epochs, shuffle=True, callbacks=callbacks,\n",
    "    validation_data=test_generator\n",
    ")\n",
    "with open(os.path.join(cp_dir, 'history.pkl'), 'wb') as fout:\n",
    "    pickle.dump(history.history, fout)"
   ]
  },
  {
   "cell_type": "code",
   "execution_count": null,
   "metadata": {},
   "outputs": [],
   "source": [
    "# Training result plots\n",
    "fig, axs = plt.subplots(1, 2, figsize=(12, 4))\n",
    "\n",
    "plot_train_result(history.history, 'loss', ax=axs[0])\n",
    "plot_train_result(history.history, 'acc', ax=axs[1])\n",
    "\n",
    "fig.suptitle('Initial Training', x=0.05, ha='left', fontsize=14, \n",
    "             fontweight='bold');"
   ]
  },
  {
   "cell_type": "code",
   "execution_count": null,
   "metadata": {},
   "outputs": [],
   "source": [
    "# Load from checkpoint\n",
    "with open('../models/initial/history.pkl', 'rb') as fin:\n",
    "    history = pickle.load(fin)\n",
    "model.load_weights('../models/initial/init.05-0.85.hdf5')"
   ]
  },
  {
   "cell_type": "code",
   "execution_count": null,
   "metadata": {},
   "outputs": [],
   "source": [
    "# - Unfreeze another inception block\n",
    "base_model.trainable = True\n",
    "for layer in base_model.layers[:-(19+62)]:\n",
    "    layer.trainable = False\n",
    "\n",
    "# - Recompile the model\n",
    "model.compile(optimizer=keras.optimizers.SGD(lr=0.0025), \n",
    "              loss='categorical_crossentropy',\n",
    "              metrics=['accuracy'])\n",
    "\n",
    "# - Fit the model (again)\n",
    "cb_checkpoint = keras.callbacks.ModelCheckpoint(\n",
    "    os.path.join(cp_dir, 'fine.{epoch:02d}-{val_loss:.2f}.hdf5'),\n",
    "    save_weights_only=True, verbose=1\n",
    ")\n",
    "callbacks = [cb_tboard, cb_checkpoint]"
   ]
  },
  {
   "cell_type": "code",
   "execution_count": null,
   "metadata": {},
   "outputs": [],
   "source": [
    "# Fine-tune the model\n",
    "epochs = 10\n",
    "\n",
    "history_fine = model.fit_generator(\n",
    "    train_generator, epochs=epochs, shuffle=True, callbacks=callbacks,\n",
    "    validation_data=test_generator\n",
    ")\n",
    "with open(os.path.join(cp_dir, 'history_fine.pkl'), 'wb') as fout:\n",
    "    pickle.dump(history_fine.history, fout)"
   ]
  },
  {
   "cell_type": "code",
   "execution_count": null,
   "metadata": {},
   "outputs": [],
   "source": [
    "# Plot fine-tuning results\n",
    "fig, axs = plt.subplots(1, 2, figsize=(12, 4))\n",
    "\n",
    "plot_train_result(history_fine.history, 'loss', ax=axs[0])\n",
    "plot_train_result(history_fine.history, 'acc', ax=axs[1])\n",
    "\n",
    "fig.suptitle('Fine-Tuning', x=0.05, ha='left', fontsize=14, \n",
    "             fontweight='bold');"
   ]
  },
  {
   "cell_type": "code",
   "execution_count": null,
   "metadata": {},
   "outputs": [],
   "source": [
    "# Load history_fine from file\n",
    "with open('../models/fine/history_fine.pkl', 'rb') as fin:\n",
    "    history_fine = pickle.load(fin)\n",
    "model.load_weights('../models/fine/fine.03-0.48.hdf5')"
   ]
  },
  {
   "cell_type": "code",
   "execution_count": null,
   "metadata": {},
   "outputs": [],
   "source": [
    "# Combine the history objects from the 2 phases\n",
    "tmp_hist = history.history.copy()\n",
    "mid_epoch = len(tmp_hist)\n",
    "for k in tmp_hist:\n",
    "    tmp_hist[k].extend(history_fine.history[k])"
   ]
  },
  {
   "cell_type": "code",
   "execution_count": null,
   "metadata": {},
   "outputs": [],
   "source": [
    "# Plot the combined training process history\n",
    "fig, axs = plt.subplots(1, 2, figsize=(12, 4))\n",
    "\n",
    "ax = plot_train_result(history.history, 'loss', ax=axs[0])\n",
    "ax.axvline(mid_epoch, color='black', linestyle='--')\n",
    "\n",
    "ax = plot_train_result(history.history, 'accuracy', ax=axs[1])\n",
    "ax.axvline(mid_epoch, color='black', linestyle='--')\n",
    "\n",
    "fig.suptitle('Combined Training Process', x=0.05, ha='left', \n",
    "             fontsize=14, fontweight='bold');"
   ]
  }
 ],
 "metadata": {
  "kernelspec": {
   "display_name": "Dog Breed Model",
   "language": "python",
   "name": "dog-breed-model"
  },
  "language_info": {
   "codemirror_mode": {
    "name": "ipython",
    "version": 3
   },
   "file_extension": ".py",
   "mimetype": "text/x-python",
   "name": "python",
   "nbconvert_exporter": "python",
   "pygments_lexer": "ipython3",
   "version": "3.7.2"
  }
 },
 "nbformat": 4,
 "nbformat_minor": 4
}
