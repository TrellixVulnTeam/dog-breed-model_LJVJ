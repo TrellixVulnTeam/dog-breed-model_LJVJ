{
 "cells": [
  {
   "cell_type": "markdown",
   "metadata": {},
   "source": [
    "# Dog Breed Identification CNN"
   ]
  },
  {
   "cell_type": "code",
   "execution_count": null,
   "metadata": {},
   "outputs": [],
   "source": [
    "# Watermark\n",
    "%load_ext watermark\n",
    "%watermark -v -m -p tensorflow,numpy"
   ]
  },
  {
   "cell_type": "code",
   "execution_count": null,
   "metadata": {},
   "outputs": [],
   "source": [
    "# Imports\n",
    "from datetime import datetime\n",
    "import os\n",
    "from time import time\n",
    "\n",
    "import matplotlib.pyplot as plt\n",
    "import numpy as np\n",
    "import tensorflow as tf\n",
    "from tensorflow import keras"
   ]
  },
  {
   "cell_type": "code",
   "execution_count": null,
   "metadata": {},
   "outputs": [],
   "source": [
    "# Setup\n",
    "plt.rcParams['figure.figsize'] = (12., 8.)"
   ]
  },
  {
   "cell_type": "code",
   "execution_count": null,
   "metadata": {},
   "outputs": [],
   "source": [
    "# Constants\n",
    "processed_dir = os.path.join(os.path.pardir, 'data', 'processed')\n",
    "train_dir = os.path.join(processed_dir, 'train')\n",
    "test_dir = os.path.join(processed_dir, 'test')"
   ]
  },
  {
   "cell_type": "code",
   "execution_count": null,
   "metadata": {},
   "outputs": [],
   "source": [
    "# Create the generators for the input data\n",
    "input_size = (299, 299)\n",
    "batch_size = 64\n",
    "\n",
    "# - Data generators\n",
    "train_datagen = keras.preprocessing.image.ImageDataGenerator(\n",
    "    rescale=1./255\n",
    ")\n",
    "test_datagen = keras.preprocessing.image.ImageDataGenerator(\n",
    "    rescale=1./255\n",
    ")\n",
    "\n",
    "# - Flow from directory generators\n",
    "train_generator = train_datagen.flow_from_directory(\n",
    "    train_dir, target_size=input_size, batch_size=batch_size,\n",
    "    class_mode='categorical'\n",
    ")\n",
    "test_generator = test_datagen.flow_from_directory(\n",
    "    test_dir, target_size=input_size, batch_size=batch_size,\n",
    "    class_mode='categorical'\n",
    ")"
   ]
  },
  {
   "cell_type": "code",
   "execution_count": null,
   "metadata": {},
   "outputs": [],
   "source": [
    "# Build the model\n",
    "# - Construct the base model\n",
    "base_model = keras.applications.inception_v3.InceptionV3(\n",
    "    weights='imagenet', include_top=False\n",
    ")\n",
    "base_model.trainable = False\n",
    "\n",
    "# - Construct the full model\n",
    "model = keras.Sequential([\n",
    "    # - InceptionV3 base\n",
    "    base_model,\n",
    "    # - A pooling layer\n",
    "    keras.layers.GlobalAveragePooling2D(),\n",
    "    # - First dense layer\n",
    "    keras.layers.Dense(1024, activation='relu'),\n",
    "    # - Output layer\n",
    "    keras.layers.Dense(120, activation='softmax')\n",
    "])\n",
    "\n",
    "model.summary()"
   ]
  },
  {
   "cell_type": "code",
   "execution_count": null,
   "metadata": {},
   "outputs": [],
   "source": [
    "# Compile the model\n",
    "model.compile(optimizer='rmsprop', loss='categorical_crossentropy',\n",
    "              metrics=['accuracy'])"
   ]
  },
  {
   "cell_type": "code",
   "execution_count": null,
   "metadata": {},
   "outputs": [],
   "source": [
    "# Configure logging with TensorBoard and checkpoints\n",
    "log_dir = os.path.abspath(os.path.join(\n",
    "    os.path.pardir, 'logs', f\"{datetime.today():%Y%m%d}-{round(time())}\"\n",
    "))\n",
    "cp_dir = os.path.join(log_dir, 'checkpoints')\n",
    "os.mkdir(log_dir)\n",
    "os.mkdir(cp_dir)\n",
    "\n",
    "cb_tboard = keras.callbacks.TensorBoard(\n",
    "    log_dir=log_dir, histogram_freq=0, update_freq='batch'\n",
    ")\n",
    "cb_checkpoint = keras.callbacks.ModelCheckpoint(\n",
    "    os.path.join(cp_dir, 'init.{epoch:02d}-{val_loss:.2f}.hdf5'),\n",
    "    save_weights_only=True, verbose=1\n",
    ")\n",
    "callbacks = [cb_tboard, cb_checkpoint]"
   ]
  },
  {
   "cell_type": "code",
   "execution_count": null,
   "metadata": {},
   "outputs": [],
   "source": [
    "# Train the model\n",
    "epochs = 3\n",
    "\n",
    "history_init = model.fit_generator(\n",
    "    train_generator, epochs=epochs, shuffle=True, callbacks=callbacks,\n",
    "    validation_data=test_generator\n",
    ")"
   ]
  },
  {
   "cell_type": "code",
   "execution_count": null,
   "metadata": {},
   "outputs": [],
   "source": [
    "# Load from checkpoint\n",
    "model.load_weights('../models/priming/init.03-0.48.hdf5')"
   ]
  },
  {
   "cell_type": "code",
   "execution_count": null,
   "metadata": {},
   "outputs": [],
   "source": [
    "# Model tuning setup\n",
    "\n",
    "# - Augment the data set\n",
    "train_datagen = keras.preprocessing.image.ImageDataGenerator(\n",
    "    rescale=1./255, \n",
    "    horizontal_flip=True, \n",
    "    vertical_flip=True,\n",
    "    rotation_range=20\n",
    ")\n",
    "train_generator = train_datagen.flow_from_directory(\n",
    "    train_dir, target_size=input_size, batch_size=batch_size,\n",
    "    class_mode='categorical'\n",
    ")\n",
    "\n",
    "# - Unfreeze the last inception block\n",
    "base_model.trainable = True\n",
    "for layer in base_model.layers[:-31]:\n",
    "    layer.trainable = False\n",
    "\n",
    "# - Recompile the model\n",
    "model.compile(optimizer='rmsprop', loss='categorical_crossentropy',\n",
    "              metrics=['accuracy'])\n",
    "\n",
    "# - Fit the model (again)\n",
    "cb_checkpoint = keras.callbacks.ModelCheckpoint(\n",
    "    os.path.join(cp_dir, 'med.{epoch:02d}-{val_loss:.2f}.hdf5'),\n",
    "    save_weights_only=True, verbose=1\n",
    ")\n",
    "callbacks = [cb_tboard, cb_checkpoint]"
   ]
  },
  {
   "cell_type": "code",
   "execution_count": null,
   "metadata": {},
   "outputs": [],
   "source": [
    "# Load from checkpoint\n",
    "model.load_weights('../models/fine/fine.04-0.41.hdf5')"
   ]
  },
  {
   "cell_type": "code",
   "execution_count": null,
   "metadata": {},
   "outputs": [],
   "source": [
    "# Train the model (second-round)\n",
    "epochs = 10\n",
    "\n",
    "history_med = model.fit_generator(\n",
    "    train_generator, epochs=epochs, shuffle=True, callbacks=callbacks,\n",
    "    validation_data=test_generator\n",
    ")"
   ]
  },
  {
   "cell_type": "code",
   "execution_count": null,
   "metadata": {},
   "outputs": [],
   "source": [
    "# Load from checkpoint\n",
    "model.load_weights('../models/fine/fine.04-0.41.hdf5')"
   ]
  },
  {
   "cell_type": "code",
   "execution_count": null,
   "metadata": {},
   "outputs": [],
   "source": [
    "# - Unfreeze last 2 inception blocks\n",
    "base_model.trainable = True\n",
    "for layer in base_model.layers[:-62]:\n",
    "    layer.trainable = False\n",
    "\n",
    "test_generator = train_datagen.flow_from_directory(\n",
    "    test_dir, target_size=input_size, batch_size=batch_size,\n",
    "    class_mode='categorical'\n",
    ")\n",
    "\n",
    "# - Recompile the model\n",
    "model.compile(optimizer=keras.optimizers.SGD(lr=0.001), \n",
    "              loss='categorical_crossentropy',\n",
    "              metrics=['accuracy'])\n",
    "\n",
    "# - Fit the model (again)\n",
    "cb_checkpoint = keras.callbacks.ModelCheckpoint(\n",
    "    os.path.join(cp_dir, 'fine.{epoch:02d}-{val_loss:.2f}.hdf5'),\n",
    "    save_weights_only=True, verbose=1\n",
    ")\n",
    "callbacks = [cb_tboard, cb_checkpoint]"
   ]
  },
  {
   "cell_type": "code",
   "execution_count": null,
   "metadata": {},
   "outputs": [],
   "source": [
    "# Fine-tune the model\n",
    "epochs = 15\n",
    "\n",
    "history_fine = model.fit_generator(\n",
    "    train_generator, epochs=epochs, shuffle=True, callbacks=callbacks,\n",
    "    validation_data=test_generator\n",
    ")"
   ]
  },
  {
   "cell_type": "code",
   "execution_count": null,
   "metadata": {},
   "outputs": [],
   "source": [
    "# Combine the history objects from the 2 phases\n",
    "h_acc = history_init['acc'] + history_med['acc'] + history_fine['acc']\n",
    "h_vacc = history_init['val_acc'] + history_med['val_acc'] \\\n",
    "         + history_fine['val_acc']\n",
    "h_loss = history_init['loss'] + history_med['loss'] + history_fine['loss']\n",
    "h_vloss = history_init['val_loss'] + history_med['val_loss'] \\\n",
    "          + history_fine['val_loss']"
   ]
  },
  {
   "cell_type": "code",
   "execution_count": null,
   "metadata": {},
   "outputs": [],
   "source": [
    "# Plot the training results\n",
    "plt_x = np.arange(1, epochs+1)\n",
    "plt_yt_loss = h_loss\n",
    "plt_yv_loss = h_vloss\n",
    "plt_yt_acc = h_acc\n",
    "plt_yv_acc = h_vacc\n",
    "\n",
    "fig, (ax_l, ax_r) = plt.subplots(1, 2, figsize=(12, 4))\n",
    "\n",
    "ax_l.plot(plt_x, plt_yt_loss, label='Train')\n",
    "ax_l.plot(plt_x, plt_yv_loss, label='Test')\n",
    "ax_l.legend()\n",
    "ax_l.set_title('Loss')\n",
    "ax_l.set_xlabel('Epoch')\n",
    "ax_l.set_ylabel('catgorical_crossentropy')\n",
    "\n",
    "ax_r.plot(plt_x, plt_yt_acc, label='Train')\n",
    "ax_r.plot(plt_x, plt_yv_acc, label='Test')\n",
    "ax_r.legend()\n",
    "ax_r.set_ylim(0, 1)\n",
    "ax_r.set_title('Accuracy')\n",
    "ax_r.set_xlabel('Epoch')\n",
    "ax_r.set_ylabel('%')\n",
    "\n",
    "fig.suptitle('Model Training', x=0.05, ha='left',\n",
    "             fontsize=14, fontweight='bold');"
   ]
  }
 ],
 "metadata": {
  "kernelspec": {
   "display_name": "Dog Breed Model",
   "language": "python",
   "name": "dog-breed-model"
  },
  "language_info": {
   "codemirror_mode": {
    "name": "ipython",
    "version": 3
   },
   "file_extension": ".py",
   "mimetype": "text/x-python",
   "name": "python",
   "nbconvert_exporter": "python",
   "pygments_lexer": "ipython3",
   "version": "3.7.2"
  }
 },
 "nbformat": 4,
 "nbformat_minor": 4
}
